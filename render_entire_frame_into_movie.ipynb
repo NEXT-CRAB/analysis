{
 "cells": [
  {
   "cell_type": "code",
   "execution_count": 1,
   "metadata": {},
   "outputs": [],
   "source": [
    "import tpx\n",
    "import numpy\n",
    "\n",
    "from tools.visualization import slice_and_pack_data"
   ]
  },
  {
   "cell_type": "code",
   "execution_count": 2,
   "metadata": {},
   "outputs": [],
   "source": [
    "# Select a file to load:\n",
    "fname = \"/home/cadams/CRAB/UTA-tpx3/120thresh_12biasvolt_IIgain0V000000.tpx3\""
   ]
  },
  {
   "cell_type": "code",
   "execution_count": 3,
   "metadata": {},
   "outputs": [],
   "source": [
    "#Load the file from the binary data:\n",
    "crab0_data = tpx.frame(fname=fname)"
   ]
  },
  {
   "cell_type": "code",
   "execution_count": 4,
   "metadata": {},
   "outputs": [
    {
     "name": "stdout",
     "output_type": "stream",
     "text": [
      "[0.06795924 0.06795927 0.07022654 ... 0.04742079 0.0474206  0.04742034]\n"
     ]
    }
   ],
   "source": [
    "crab0_data.shape\n",
    "print(crab0_data[\"TOA\"])"
   ]
  },
  {
   "cell_type": "code",
   "execution_count": 5,
   "metadata": {},
   "outputs": [
    {
     "name": "stdout",
     "output_type": "stream",
     "text": [
      "(169258,)\n"
     ]
    }
   ],
   "source": [
    "# Apply a threshold to remove events with too little charge:\n",
    "crab0_data = crab0_data.threshold(26)\n",
    "print(crab0_data.shape)"
   ]
  },
  {
   "cell_type": "code",
   "execution_count": null,
   "metadata": {},
   "outputs": [],
   "source": []
  },
  {
   "cell_type": "code",
   "execution_count": null,
   "metadata": {},
   "outputs": [],
   "source": []
  },
  {
   "cell_type": "code",
   "execution_count": null,
   "metadata": {},
   "outputs": [],
   "source": []
  },
  {
   "cell_type": "code",
   "execution_count": 6,
   "metadata": {},
   "outputs": [
    {
     "name": "stdout",
     "output_type": "stream",
     "text": [
      "0.0\n",
      "26.842255728125\n"
     ]
    }
   ],
   "source": [
    "# What is the min and max time?\n",
    "min_time = crab0_data['TOA'].min()\n",
    "max_time = crab0_data['TOA'].max()\n",
    "print(min_time)\n",
    "print(max_time)"
   ]
  },
  {
   "cell_type": "markdown",
   "metadata": {},
   "source": [
    " alpha events are coming at something like 137HZ\n",
    "... so to resolve individual ones we need to stretch this out.\n",
    "\n",
    "1/137 (huh ... alpha) is about 0.007 s between alphas, on average, so we want that to be broadly discriminated.\n",
    "So, aim for "
   ]
  },
  {
   "cell_type": "code",
   "execution_count": 7,
   "metadata": {},
   "outputs": [],
   "source": [
    "time_step = 0.001 # HOw much time, in s, rendered at once\n",
    "\n",
    "\n",
    "\n",
    "\n"
   ]
  },
  {
   "cell_type": "code",
   "execution_count": null,
   "metadata": {},
   "outputs": [],
   "source": []
  },
  {
   "cell_type": "code",
   "execution_count": null,
   "metadata": {},
   "outputs": [],
   "source": []
  },
  {
   "cell_type": "code",
   "execution_count": null,
   "metadata": {},
   "outputs": [],
   "source": []
  },
  {
   "cell_type": "code",
   "execution_count": null,
   "metadata": {},
   "outputs": [],
   "source": []
  },
  {
   "cell_type": "code",
   "execution_count": 8,
   "metadata": {},
   "outputs": [],
   "source": [
    "# Load the vizualization modules:\n",
    "\n",
    "from vispy import app, scene, io\n",
    "from vispy.scene import visuals\n",
    "from vispy.color import get_colormaps, BaseColormap\n",
    "from vispy.visuals import TextVisual, LineVisual\n",
    "\n",
    "%gui qt"
   ]
  },
  {
   "cell_type": "code",
   "execution_count": null,
   "metadata": {},
   "outputs": [],
   "source": []
  },
  {
   "cell_type": "code",
   "execution_count": null,
   "metadata": {},
   "outputs": [],
   "source": []
  },
  {
   "cell_type": "code",
   "execution_count": null,
   "metadata": {},
   "outputs": [],
   "source": []
  },
  {
   "cell_type": "code",
   "execution_count": 9,
   "metadata": {},
   "outputs": [],
   "source": [
    "# Create a color map to render the data more nicely:\n",
    "from matplotlib import cm"
   ]
  },
  {
   "cell_type": "code",
   "execution_count": 10,
   "metadata": {},
   "outputs": [
    {
     "name": "stderr",
     "output_type": "stream",
     "text": [
      "/tmp/ipykernel_36527/3150136637.py:1: MatplotlibDeprecationWarning: The get_cmap function was deprecated in Matplotlib 3.7 and will be removed two minor releases later. Use ``matplotlib.colormaps[name]`` or ``matplotlib.colormaps.get_cmap(obj)`` instead.\n",
      "  cmap = cm.get_cmap(\"gist_stern_r\")\n"
     ]
    }
   ],
   "source": [
    "cmap = cm.get_cmap(\"gist_stern_r\")"
   ]
  },
  {
   "cell_type": "code",
   "execution_count": null,
   "metadata": {},
   "outputs": [],
   "source": [
    "\n"
   ]
  },
  {
   "cell_type": "code",
   "execution_count": 11,
   "metadata": {},
   "outputs": [
    {
     "name": "stdout",
     "output_type": "stream",
     "text": [
      "(114, 3)\n",
      "-0.11328125\n",
      "0.03515625\n",
      "[175. 175.  75. 150. 300. 300. 125. 150. 275.  50.  75. 175. 125. 200.\n",
      "  50.  75. 150. 200. 200. 100. 125. 150. 325. 150. 250. 275. 100. 200.\n",
      " 250.  75. 125. 250. 325.  50. 125.  50. 150.  75.  75.  50.  50. 325.\n",
      "  75. 150. 125. 250. 100. 150. 100. 175. 275. 100. 125. 125.  50. 200.\n",
      "  75. 300.  75. 375. 225. 200. 225. 300. 350.  75.  75. 125.  75. 100.\n",
      " 200. 175.  50. 125.  50. 150. 175. 425. 200. 275.  75. 175. 250.  75.\n",
      " 225.  75. 200.  75. 200. 275.  75. 250. 200.  50. 175. 100. 225. 225.\n",
      " 200. 350.  75. 200. 150. 200.  50. 350.  50. 225. 500. 325. 675. 200.\n",
      " 125.  75.]\n"
     ]
    },
    {
     "name": "stdout",
     "output_type": "stream",
     "text": [
      "53.6 FPS\n",
      "60.0 FPS\n",
      "59.9 FPS\n",
      "60.0 FPS\n"
     ]
    }
   ],
   "source": [
    "# Create a 3D window for vizualing the data:\n",
    "\n",
    "# Rendering steps:\n",
    "canvas = scene.SceneCanvas(keys='interactive', size=(1600, 1600), show=True)\n",
    "canvas.measure_fps()\n",
    "view = canvas.central_widget.add_view()\n",
    "view.camera = 'turntable'\n",
    "view.padding=100\n",
    "\n",
    "# # Add the detector box:\n",
    "# lines_top = numpy.zeros((4,3))\n",
    "# lines_top[0][0] = -256; lines_top[0][1] = -256;\n",
    "# lines_top[1][0] = -256; lines_top[1][1] = 256;\n",
    "# lines_top[2][0] = 256; lines_top[2][1] = 256;\n",
    "# lines_top[3][0] = 256; lines_top[3][1] = -256;\n",
    "\n",
    "# axis = LineVisual(pos=lines_top)\n",
    "# view.add(axis)\n",
    "\n",
    "cube = scene.visuals.Box(1,0,1,parent=view.scene)\n",
    "\n",
    "scatter = visuals.Markers(symbol='square', scaling=\"scene\")\n",
    "view.add(scatter)\n",
    "\n",
    "i = 1\n",
    "\n",
    "i = 0\n",
    "time_step = 0.001 # HOw much time, in s, rendered at once\n",
    "total_window = 0.02 # in seconds\n",
    "drift_scale = 2e1\n",
    "\n",
    "# slice_data = crab0_data.time_slice(0.25,0.5)\n",
    "\n",
    "initial_xyz, initial_z = slice_and_pack_data(crab0_data, \n",
    "                                             min_time = 0, \n",
    "                                             max_time = total_window, \n",
    "                                             drift_scale=drift_scale, \n",
    "                                             shift_to_min=True)\n",
    "print(initial_xyz.shape)\n",
    "print(numpy.min(initial_xyz[:,0]))\n",
    "print(numpy.min(initial_xyz[:,1]))\n",
    "\n",
    "print(initial_z)\n",
    "\n",
    "colors = cmap(initial_z / 1000.)\n",
    "\n",
    "\n",
    "scatter.set_data(initial_xyz, edge_width=0, face_color=colors, size=1./256, symbol=\"square\")\n",
    "\n",
    "\n",
    "def update(ev, drift_scale=drift_scale):\n",
    "    global i\n",
    "\n",
    "\n",
    "    if (i)*time_step > numpy.max(crab0_data[\"TOA\"]): \n",
    "        i = 0\n",
    "\n",
    "\n",
    "\n",
    "    xyz, z = slice_and_pack_data(crab0_data, \n",
    "                                 min_time = i*time_step, \n",
    "                                 max_time = (i+1)*time_step + total_window, \n",
    "                                 drift_scale = drift_scale,\n",
    "                                 )\n",
    "    colors = cmap(z / 1000.)\n",
    "    \n",
    "    i += 1\n",
    "\n",
    "    scatter.set_data(xyz, edge_width=0, face_color=colors, size=1./256, symbol=\"square\")\n",
    "        \n",
    "timer = app.Timer()\n",
    "timer.connect(update)\n",
    "# slow this down a bit to better see what happens\n",
    "timer.start()\n"
   ]
  },
  {
   "cell_type": "code",
   "execution_count": null,
   "metadata": {},
   "outputs": [],
   "source": []
  },
  {
   "cell_type": "code",
   "execution_count": null,
   "metadata": {},
   "outputs": [],
   "source": []
  }
 ],
 "metadata": {
  "kernelspec": {
   "display_name": "Python 3",
   "language": "python",
   "name": "python3"
  },
  "language_info": {
   "codemirror_mode": {
    "name": "ipython",
    "version": 3
   },
   "file_extension": ".py",
   "mimetype": "text/x-python",
   "name": "python",
   "nbconvert_exporter": "python",
   "pygments_lexer": "ipython3",
   "version": "3.10.12"
  }
 },
 "nbformat": 4,
 "nbformat_minor": 2
}
