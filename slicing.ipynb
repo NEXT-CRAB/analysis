{
 "cells": [
  {
   "cell_type": "code",
   "execution_count": 1,
   "metadata": {},
   "outputs": [],
   "source": [
    "import tpx\n",
    "import numpy"
   ]
  },
  {
   "cell_type": "code",
   "execution_count": 2,
   "metadata": {},
   "outputs": [],
   "source": [
    "# Select a file to load:\n",
    "fname = \"/home/cadams/CRAB/UTA-tpx3/120thresh_12biasvolt_IIgain0V000000.tpx3\""
   ]
  },
  {
   "cell_type": "code",
   "execution_count": 3,
   "metadata": {},
   "outputs": [],
   "source": [
    "#Load the file from the binary data:\n",
    "crab0_data = tpx.frame(fname=fname)"
   ]
  },
  {
   "cell_type": "markdown",
   "metadata": {},
   "source": [
    "## Slicing frames into events.\n",
    "\n",
    "The goal of this notebook is to develop the function that will take an entire frame of unbuffered events and, without S1, find regions of interest and remove background events."
   ]
  },
  {
   "cell_type": "markdown",
   "metadata": {},
   "source": [
    "First, let's look at the time of hits:"
   ]
  },
  {
   "cell_type": "code",
   "execution_count": 4,
   "metadata": {},
   "outputs": [
    {
     "name": "stdout",
     "output_type": "stream",
     "text": [
      "[0.06795924 0.06795927 0.07022654 0.07159322 0.07159381 0.07159388\n",
      " 0.07159399 0.07159332 0.07159416 0.07159439 0.07159443 0.07159484\n",
      " 0.07159521 0.07159599 0.07159609 0.07159537 0.07159493 0.07159652\n",
      " 0.07159415 0.07159659 0.07159382 0.07159483 0.07159442 0.0715969\n",
      " 0.07159543 0.07159489 0.07159519 0.07159517 0.07159519 0.0716634\n",
      " 0.0716638  0.07166489 0.07166573 0.07166583 0.08321898 0.08322167\n",
      " 0.08322153 0.08322398 0.08322418 0.09175141 0.09175299 0.09175295\n",
      " 0.09175379 0.09175389 0.09175381 0.09175392 0.0917538  0.09175384\n",
      " 0.09175468 0.09175533 0.09175483 0.09175294 0.09175535 0.09175533\n",
      " 0.09175292 0.09175478 0.09175463 0.09175539 0.09175533 0.09175513\n",
      " 0.09175373 0.09175533 0.0917552  0.09175293 0.09175516 0.09175533\n",
      " 0.1049433  0.10914181 0.10975783 0.13738    0.14101739 0.14101734\n",
      " 0.15865706 0.15865703 0.16379254 0.16379321 0.16379357 0.1637943\n",
      " 0.16379418 0.16961621 0.16961639 0.16961653 0.1696172  0.16961691\n",
      " 0.1696176  0.1696171  0.1696172  0.1696176  0.16961758 0.16961751\n",
      " 0.16961851 0.16961789 0.1696187  0.16961638 0.16961997 0.16961997\n",
      " 0.16961799 0.16961642 0.16962006 0.16961851]\n"
     ]
    }
   ],
   "source": [
    "hit_times = crab0_data[\"TOA\"]\n",
    "hit_tot   = crab0_data[\"TOT\"]\n",
    "\n",
    "# hit times are returned in seconds from the data reader, resolution is in ns:\n",
    "print(hit_times[0:100])"
   ]
  },
  {
   "cell_type": "code",
   "execution_count": 5,
   "metadata": {},
   "outputs": [
    {
     "name": "stdout",
     "output_type": "stream",
     "text": [
      "(5000,)\n"
     ]
    }
   ],
   "source": [
    "bin_size = 100*1e-6 # microseconds\n",
    "hit_bins = numpy.arange(0,0.5, bin_size)\n",
    "print(hit_bins.shape)"
   ]
  },
  {
   "cell_type": "code",
   "execution_count": 24,
   "metadata": {},
   "outputs": [],
   "source": [
    "def bin_tpx_data_for_slicing(tpx_frame, bin_size=100e-6, threshold=2, method=\"toa_counts\"):\n",
    "    \"\"\"Bin the data to accomodate event slicing.  Parameters:\n",
    "\n",
    "    Args:\n",
    "        tpx_frame (tpx.Frame): tpx.Frame object to be sliced\n",
    "        bin_size (_type_): total bin size in seconds (ie, 1 us would be 1e-6)\n",
    "        threshold (_type_): Threshold to apply to each bin\n",
    "        method (str, optional): method of slicing, either \"toa_counts\" or \"tot_sum\". Defaults to \"toa_counts\".\n",
    "    \"\"\"\n",
    "    \n",
    "    # First, create a list of bins:\n",
    "\n",
    "    max_time = numpy.max(tpx_frame[\"TOA\"])\n",
    "    max_time = 0.5\n",
    "\n",
    "    time_bins = numpy.arange(0,max_time, bin_size)\n",
    "\n",
    "    # Bin all the hit times into the bins to determine how much activity was in each bin:\n",
    "    binned_activity, bin_edges = numpy.histogram(hit_times, bins=time_bins)\n",
    "    bin_centers = 0.5*(bin_edges[1:] + bin_edges[:-1])\n",
    "\n",
    "    # Apply the bin thresholds:\n",
    "\n",
    "    if method == \"toa_counts\":\n",
    "        non_zero_bins   = binned_activity >= threshold\n",
    "        non_zero_times  = bin_centers[non_zero_bins]\n",
    "        non_zero_counts = binned_activity[non_zero_bins]\n",
    "    elif method == \"tot_sum\":\n",
    "        # To do this based on total ToT per bin is trickier and slower but not really slow:\n",
    "        tot_per_bin = numpy.asarray([\n",
    "            numpy.sum(hit_tot[ numpy.where((hit_times > low) & (hit_times <= high)) ])\n",
    "            for low, high in zip(time_bins[:-1], time_bins[1:])\n",
    "        ])\n",
    "        non_zero_bins   = tot_per_bin >= tot_threshold\n",
    "        non_zero_times  = bin_centers[non_zero_bins]\n",
    "        non_zero_counts = tot_per_bin[non_zero_bins]\n",
    "\n",
    "    return time_bins, numpy.where(non_zero_bins)[0], non_zero_times, non_zero_counts"
   ]
  },
  {
   "cell_type": "code",
   "execution_count": 25,
   "metadata": {},
   "outputs": [],
   "source": [
    "time_bins, non_zero_bins, non_zero_times, non_zero_counts = bin_tpx_data_for_slicing(crab0_data)"
   ]
  },
  {
   "cell_type": "code",
   "execution_count": 26,
   "metadata": {},
   "outputs": [
    {
     "name": "stdout",
     "output_type": "stream",
     "text": [
      "(5000,)\n",
      "[  34   56   67   76   98  135  186  239  258  336  353  369  395  412\n",
      "  440  469  474  546  547  555  629  638  679  687  691  715  716  758\n",
      "  777  832  895  897  903  917  919 1038 1072 1106 1109 1113 1159 1243\n",
      " 1257 1271 1297 1375 1410 1464 1518 1562 1586 1598 1637 1696 1711 1742\n",
      " 1754 1768 1769 1853 1857 1860 1872 1915 1929 2009 2037 2048 2069 2085\n",
      " 2156 2172 2205 2217 2243 2268 2354 2366 2385 2476 2477 2532 2592 2608\n",
      " 2642 2661 2722 2745 2773 2785 2881 2897 2904 2911 2989 3009 3046 3099\n",
      " 3146 3193 3203 3222 3368 3390 3395 3402 3409 3487 3525 3530 3538 3569\n",
      " 3575 3641 3648 3658 3699 3707 3764 3792 3809 3966 3995 4098 4128 4137\n",
      " 4139 4149 4154 4160 4165 4166 4283 4314 4355 4438 4439 4481 4559 4569\n",
      " 4592 4637 4733 4861 4865 4871 4884 4921 4954 4973]\n",
      "(150,)\n",
      "(150,)\n"
     ]
    }
   ],
   "source": [
    "print(time_bins.shape)\n",
    "print(non_zero_bins)\n",
    "print(non_zero_times.shape)\n",
    "print(non_zero_counts.shape)"
   ]
  },
  {
   "cell_type": "code",
   "execution_count": null,
   "metadata": {},
   "outputs": [],
   "source": []
  },
  {
   "cell_type": "code",
   "execution_count": null,
   "metadata": {},
   "outputs": [],
   "source": []
  },
  {
   "cell_type": "code",
   "execution_count": 79,
   "metadata": {},
   "outputs": [],
   "source": [
    "def select_regions_of_interest(non_zero_bins, original_bins):\n",
    "    \"\"\"Take the list of bins and return the regions of interest in min/max.\n",
    "\n",
    "    Args:\n",
    "        non_zero_bins (numpy.ndarray[int]): List of histogram bins from a frame that are not zero\n",
    "        original_bins (numpy.ndarray): The original histogram's bins\n",
    "\n",
    "    Returns:\n",
    "        _type_: _description_\n",
    "    \"\"\"\n",
    "\n",
    "\n",
    "    bin_spacing = non_zero_bins[1:] - non_zero_bins[:-1]\n",
    "    # this variable says whether the bin at [i+1] is directly adjacent to [i]\n",
    "\n",
    "    temp_adjacent_bins = bin_spacing == 1\n",
    "    # in order to select original bin indexes from this, pad it with a False:\n",
    "\n",
    "    adjacent_bins = numpy.zeros_like(non_zero_bins, dtype=\"bool\")\n",
    "    # And then add the originals in:\n",
    "    adjacent_bins[1:] = temp_adjacent_bins\n",
    "\n",
    "    # The easiest way to vectorize this is the following:\n",
    "    # For the list of non-adjacent bins, we just select the boundaries from the original histogram bins.\n",
    "    # For the list of adjacent bins, we extend the bins in the selected bins\n",
    "\n",
    "    # We never start a region of interest on a bin that has an adjacency\n",
    "    starting_indexes = non_zero_bins[adjacent_bins != 1]\n",
    "    ending_indexes   = starting_indexes + 1\n",
    "\n",
    "    extend_bins = non_zero_bins[adjacent_bins == 1]\n",
    "\n",
    "    # For each bin in the \"extend bins\" category, we find the matching end bin and increment it:\n",
    "    for bin in extend_bins:\n",
    "        index = numpy.where(ending_indexes == bin)[0]\n",
    "        ending_indexes[index] += 1\n",
    "\n",
    "    # TODO: The above loop does not work if there are multiple consecutive bins to merge!\n",
    "\n",
    "\n",
    "    # Finally, take the bin indexes and use them in the original bins to get upper and lower bounds:\n",
    "    lower_bounds = original_bins[starting_indexes]\n",
    "    upper_bounds = original_bins[ending_indexes]\n",
    "\n",
    "    return lower_bounds, upper_bounds\n"
   ]
  },
  {
   "cell_type": "code",
   "execution_count": 81,
   "metadata": {},
   "outputs": [],
   "source": [
    "lower_bounds, upper_bounds = select_regions_of_interest(non_zero_bins, time_bins)"
   ]
  },
  {
   "cell_type": "code",
   "execution_count": 82,
   "metadata": {},
   "outputs": [],
   "source": [
    "def slice_frame_into_events(tpx_frame, lower_bounds, upper_bounds):\n",
    "    \"\"\"Time-slice the \n",
    "\n",
    "    Args:\n",
    "        tpx_frame (tpx.frame): original frame of events\n",
    "        lower_bounds (numpy.ndarray): Array of times, in [seconds], for the upper bounds\n",
    "        upper_bounds (numpy.ndarray): Array of times, in [seconds], for the lower bounds\n",
    "\n",
    "    Returns:\n",
    "        List[tpx.frame]: List of frames sliced by the suggested bounds\n",
    "    \"\"\"\n",
    "\n",
    "    events = [\n",
    "        tpx_frame.time_slice(lower, upper) for lower, upper in zip(lower_bounds, upper_bounds)\n",
    "    ]\n",
    "\n",
    "    return events"
   ]
  },
  {
   "cell_type": "code",
   "execution_count": 86,
   "metadata": {},
   "outputs": [],
   "source": [
    "events = slice_frame_into_events(crab0_data, lower_bounds, upper_bounds)"
   ]
  },
  {
   "cell_type": "code",
   "execution_count": 83,
   "metadata": {},
   "outputs": [],
   "source": []
  },
  {
   "cell_type": "code",
   "execution_count": null,
   "metadata": {},
   "outputs": [],
   "source": []
  },
  {
   "cell_type": "code",
   "execution_count": 85,
   "metadata": {},
   "outputs": [
    {
     "data": {
      "text/plain": [
       "144"
      ]
     },
     "execution_count": 85,
     "metadata": {},
     "output_type": "execute_result"
    }
   ],
   "source": [
    "len(events)"
   ]
  },
  {
   "cell_type": "code",
   "execution_count": 87,
   "metadata": {},
   "outputs": [
    {
     "name": "stdout",
     "output_type": "stream",
     "text": [
      "<tpx.frame.frame object at 0x7fb2580cd090>\n"
     ]
    }
   ],
   "source": [
    "print(events[0])"
   ]
  },
  {
   "cell_type": "code",
   "execution_count": null,
   "metadata": {},
   "outputs": [],
   "source": []
  }
 ],
 "metadata": {
  "kernelspec": {
   "display_name": "Python 3",
   "language": "python",
   "name": "python3"
  },
  "language_info": {
   "codemirror_mode": {
    "name": "ipython",
    "version": 3
   },
   "file_extension": ".py",
   "mimetype": "text/x-python",
   "name": "python",
   "nbconvert_exporter": "python",
   "pygments_lexer": "ipython3",
   "version": "3.10.12"
  }
 },
 "nbformat": 4,
 "nbformat_minor": 2
}
