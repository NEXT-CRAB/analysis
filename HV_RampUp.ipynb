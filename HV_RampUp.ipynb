{
 "cells": [
  {
   "cell_type": "code",
   "execution_count": 1,
   "metadata": {},
   "outputs": [],
   "source": [
    "import numpy\n",
    "import matplotlib\n",
    "import glob\n",
    "from matplotlib import pyplot as plt\n",
    "\n",
    "import tpx"
   ]
  },
  {
   "cell_type": "code",
   "execution_count": 2,
   "metadata": {},
   "outputs": [],
   "source": [
    "hv_values = [0, 0.4, 1.0, 1.5, 2.0, 2.5, 3.0, 3.5, 4.0]\n",
    "files = \"/home/cadams/CRAB/analysis/11-2-23/TPC_Ramp_Up/frames_TPC-{hv}kV_000000.tpx3\"\n",
    "\n",
    "frames = [tpx.frame(fname = files.format(hv=hv)) for hv in hv_values ]"
   ]
  },
  {
   "cell_type": "code",
   "execution_count": 3,
   "metadata": {},
   "outputs": [
    {
     "data": {
      "text/plain": [
       "(32317,)"
      ]
     },
     "execution_count": 3,
     "metadata": {},
     "output_type": "execute_result"
    }
   ],
   "source": [
    "frames[0].data.shape"
   ]
  },
  {
   "cell_type": "code",
   "execution_count": 31,
   "metadata": {},
   "outputs": [],
   "source": [
    "def hits_per_second(frame):\n",
    "    frame_length = numpy.max(frame.data['TOA'])\n",
    "    # print(frame_length)\n",
    "\n",
    "    hits = numpy.sum(frame.data['TOT'])\n",
    "\n",
    "    return hits / frame_length"
   ]
  },
  {
   "cell_type": "code",
   "execution_count": 32,
   "metadata": {},
   "outputs": [],
   "source": [
    "hps = [hits_per_second(f) for f in frames ]"
   ]
  },
  {
   "cell_type": "code",
   "execution_count": 6,
   "metadata": {},
   "outputs": [
    {
     "data": {
      "text/plain": [
       "array([ 0.06483226,  0.06483226,  0.06483222, ..., 23.20774463,\n",
       "       23.20774464, 23.20774463])"
      ]
     },
     "execution_count": 6,
     "metadata": {},
     "output_type": "execute_result"
    }
   ],
   "source": [
    "frames[0]['TOA']"
   ]
  },
  {
   "cell_type": "code",
   "execution_count": 24,
   "metadata": {},
   "outputs": [],
   "source": [
    "time_bins = numpy.arange(0,30, 5e-2)\n",
    "\n",
    "time_hists = [ numpy.histogram(f['TOA'], bins=time_bins)[0] for f in frames]"
   ]
  },
  {
   "cell_type": "code",
   "execution_count": 25,
   "metadata": {},
   "outputs": [
    {
     "name": "stdout",
     "output_type": "stream",
     "text": [
      "(600,)\n"
     ]
    }
   ],
   "source": [
    "print(time_bins.shape)\n",
    "time_centers = 0.5*(time_bins[1:] + time_bins[:-1])"
   ]
  },
  {
   "cell_type": "code",
   "execution_count": 26,
   "metadata": {},
   "outputs": [],
   "source": [
    "import vispy.plot as vp\n",
    "%gui qt"
   ]
  },
  {
   "cell_type": "code",
   "execution_count": 29,
   "metadata": {},
   "outputs": [],
   "source": [
    "fig = vp.Fig(show=False)\n",
    "\n",
    "line = fig[0,0].plot(numpy.stack([time_centers, time_hists[5]], axis=-1),\n",
    "                    #  edge_color=None,\n",
    "                     width=0,\n",
    "                     marker_size=1,\n",
    "                     )\n",
    "fig.show(run=True)"
   ]
  },
  {
   "cell_type": "code",
   "execution_count": 36,
   "metadata": {},
   "outputs": [],
   "source": [
    "fig = vp.Fig(show=False)\n",
    "\n",
    "line = fig[0,0].plot(numpy.stack([\n",
    "        numpy.asarray(hv_values), numpy.asarray(hps)\n",
    "    ], axis=-1)\n",
    ")\n",
    "\n",
    "fig.show(run=True)"
   ]
  },
  {
   "cell_type": "code",
   "execution_count": null,
   "metadata": {},
   "outputs": [],
   "source": []
  }
 ],
 "metadata": {
  "kernelspec": {
   "display_name": "Python 3",
   "language": "python",
   "name": "python3"
  },
  "language_info": {
   "codemirror_mode": {
    "name": "ipython",
    "version": 3
   },
   "file_extension": ".py",
   "mimetype": "text/x-python",
   "name": "python",
   "nbconvert_exporter": "python",
   "pygments_lexer": "ipython3",
   "version": "3.10.12"
  },
  "orig_nbformat": 4
 },
 "nbformat": 4,
 "nbformat_minor": 2
}
