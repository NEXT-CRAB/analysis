{
 "cells": [
  {
   "cell_type": "code",
   "execution_count": 1,
   "metadata": {},
   "outputs": [],
   "source": [
    "import tpx\n",
    "import numpy\n",
    "\n",
    "from tools.visualization import slice_and_pack_data, convert_xyz_to_cubes"
   ]
  },
  {
   "cell_type": "code",
   "execution_count": 2,
   "metadata": {},
   "outputs": [],
   "source": [
    "# Select a file to load:\n",
    "fname = \"/home/cadams/CRAB/UTA-tpx3/120thresh_12biasvolt_IIgain0V000000.tpx3\""
   ]
  },
  {
   "cell_type": "code",
   "execution_count": 3,
   "metadata": {},
   "outputs": [],
   "source": [
    "#Load the file from the binary data:\n",
    "crab0_data = tpx.frame(fname=fname)"
   ]
  },
  {
   "cell_type": "code",
   "execution_count": 4,
   "metadata": {},
   "outputs": [
    {
     "name": "stdout",
     "output_type": "stream",
     "text": [
      "[0.06795924 0.06795927 0.07022654 ... 0.04742079 0.0474206  0.04742034]\n"
     ]
    }
   ],
   "source": [
    "crab0_data.shape\n",
    "print(crab0_data[\"TOA\"])"
   ]
  },
  {
   "cell_type": "code",
   "execution_count": 5,
   "metadata": {},
   "outputs": [],
   "source": [
    "# # Apply a threshold to remove events with too little charge:\n",
    "# crab0_data = crab0_data\n",
    "# print(crab0_data.shape)"
   ]
  },
  {
   "cell_type": "code",
   "execution_count": 6,
   "metadata": {},
   "outputs": [],
   "source": [
    "# Next, use the TPX slice tools to chop this frame into unique events: \n",
    "from tpx.slicer import slice\n",
    "\n",
    "# 10 us bins\n",
    "events = slice(crab0_data, bin_size=100e-6, threshold=100, method=\"toa_counts\")"
   ]
  },
  {
   "cell_type": "code",
   "execution_count": 7,
   "metadata": {},
   "outputs": [
    {
     "name": "stdout",
     "output_type": "stream",
     "text": [
      "325\n"
     ]
    }
   ],
   "source": [
    "print(len(events))"
   ]
  },
  {
   "cell_type": "markdown",
   "metadata": {},
   "source": [
    "## Render individual events:"
   ]
  },
  {
   "cell_type": "code",
   "execution_count": 8,
   "metadata": {},
   "outputs": [],
   "source": [
    "# Load the vizualization modules:\n",
    "\n",
    "from vispy import app, scene, io\n",
    "from vispy.scene import visuals\n",
    "from vispy.color import get_colormaps, BaseColormap\n",
    "from vispy.visuals import TextVisual, LineVisual, MeshVisual\n",
    "\n",
    "%gui qt"
   ]
  },
  {
   "cell_type": "code",
   "execution_count": 9,
   "metadata": {},
   "outputs": [],
   "source": [
    "# Create a color map to render the data more nicely:\n",
    "from matplotlib import cm"
   ]
  },
  {
   "cell_type": "code",
   "execution_count": 10,
   "metadata": {},
   "outputs": [
    {
     "name": "stderr",
     "output_type": "stream",
     "text": [
      "/tmp/ipykernel_22013/3150136637.py:1: MatplotlibDeprecationWarning: The get_cmap function was deprecated in Matplotlib 3.7 and will be removed two minor releases later. Use ``matplotlib.colormaps[name]`` or ``matplotlib.colormaps.get_cmap(obj)`` instead.\n",
      "  cmap = cm.get_cmap(\"gist_stern_r\")\n"
     ]
    }
   ],
   "source": [
    "cmap = cm.get_cmap(\"gist_stern_r\")"
   ]
  },
  {
   "cell_type": "code",
   "execution_count": 11,
   "metadata": {},
   "outputs": [
    {
     "name": "stdout",
     "output_type": "stream",
     "text": [
      "3.2 FPS\n",
      "12.5 FPS\n",
      "19.6 FPS\n",
      "12.2 FPS\n",
      "0.4 FPS\n",
      "9.5 FPS\n",
      "32.8 FPS\n",
      "30.0 FPS\n",
      "30.0 FPS\n",
      "28.0 FPS\n",
      "21.5 FPS\n",
      "2.7 FPS\n",
      "30.5 FPS\n",
      "29.0 FPS\n",
      "30.0 FPS\n",
      "7.2 FPS\n",
      "1.5 FPS\n",
      "3.4 FPS\n",
      "28.9 FPS\n",
      "7.6 FPS\n",
      "20.0 FPS\n",
      "5.0 FPS\n",
      "27.6 FPS\n",
      "27.9 FPS\n",
      "22.3 FPS\n",
      "6.3 FPS\n",
      "1.7 FPS\n",
      "1.5 FPS\n",
      "1.0 FPS\n",
      "2.4 FPS\n",
      "1.7 FPS\n",
      "2.0 FPS\n",
      "2.1 FPS\n",
      "2.6 FPS\n",
      "2.8 FPS\n",
      "2.1 FPS\n",
      "2.6 FPS\n",
      "2.4 FPS\n",
      "5.9 FPS\n",
      "18.0 FPS\n",
      "19.2 FPS\n",
      "3.0 FPS\n",
      "27.9 FPS\n",
      "22.7 FPS\n",
      "24.4 FPS\n",
      "7.1 FPS\n",
      "0.8 FPS\n",
      "0.3 FPS\n",
      "0.5 FPS\n",
      "0.1 FPS\n",
      "0.8 FPS\n"
     ]
    }
   ],
   "source": [
    "# Create a 3D window for vizualing the data:\n",
    "\n",
    "target_event_index = 0\n",
    "\n",
    "# Rendering steps:\n",
    "canvas = scene.SceneCanvas(keys='interactive', size=(1600, 1600), show=True)\n",
    "canvas.measure_fps()\n",
    "view = canvas.central_widget.add_view()\n",
    "view.camera = 'turntable'\n",
    "view.padding=100\n",
    "\n",
    "# # Add the detector box:\n",
    "# lines_top = numpy.zeros((4,3))\n",
    "# lines_top[0][0] = -256; lines_top[0][1] = -256;\n",
    "# lines_top[1][0] = -256; lines_top[1][1] = 256;\n",
    "# lines_top[2][0] = 256; lines_top[2][1] = 256;\n",
    "# lines_top[3][0] = 256; lines_top[3][1] = -256;\n",
    "\n",
    "# axis = LineVisual(pos=lines_top)\n",
    "# view.add(axis)\n",
    "\n",
    "\n",
    "drift_scale = 5e4\n",
    "\n",
    "cube = scene.visuals.Box(1,0,1,parent=view.scene)\n",
    "\n",
    "# scatter = visuals.Markers(symbol='square', scaling=\"scene\")\n",
    "mesh = visuals.Mesh()\n",
    "view.add(mesh)\n",
    "xyz, z = slice_and_pack_data(events[target_event_index], drift_scale=drift_scale, shift_to_min=True)\n",
    "\n",
    "verts, faces, colors = convert_xyz_to_cubes(xyz, z/500., cmap)\n",
    "mesh.set_data(vertices=verts, faces=faces, face_colors=colors)\n",
    "\n",
    "\n",
    "\n",
    "# slice_data = crab0_data.time_slice(0.25,0.5)\n",
    "\n",
    "@canvas.events.key_press.connect\n",
    "def on_key_press(event):\n",
    "    global target_event_index\n",
    "\n",
    "    if event.key == \"n\":\n",
    "        target_event_index += 1\n",
    "        # Loop back if needed\n",
    "        if target_event_index == len(events): target_event_index = 0\n",
    "    elif event.key == \"p\":\n",
    "        target_event_index -= 1\n",
    "        # Loop back if needed\n",
    "        if target_event_index < 0: target_event_index = 0\n",
    "    # else:\n",
    "    #     print(event.key)\n",
    "        \n",
    "    xyz, z = slice_and_pack_data(events[target_event_index], drift_scale=drift_scale, shift_to_min=True)\n",
    "\n",
    "    verts, faces, colors = convert_xyz_to_cubes(xyz, z/500., cmap)\n",
    "    mesh.set_data(vertices=verts, faces=faces, face_colors=colors)\n",
    "\n",
    "\n",
    "    # scatter.set_data(xyz, edge_width=0, face_color=colors, size=1./256, symbol=\"square\")\n",
    "\n",
    "\n",
    "\n"
   ]
  },
  {
   "cell_type": "code",
   "execution_count": null,
   "metadata": {},
   "outputs": [],
   "source": []
  },
  {
   "cell_type": "code",
   "execution_count": null,
   "metadata": {},
   "outputs": [],
   "source": []
  }
 ],
 "metadata": {
  "kernelspec": {
   "display_name": "Python 3",
   "language": "python",
   "name": "python3"
  },
  "language_info": {
   "codemirror_mode": {
    "name": "ipython",
    "version": 3
   },
   "file_extension": ".py",
   "mimetype": "text/x-python",
   "name": "python",
   "nbconvert_exporter": "python",
   "pygments_lexer": "ipython3",
   "version": "3.10.12"
  }
 },
 "nbformat": 4,
 "nbformat_minor": 2
}
