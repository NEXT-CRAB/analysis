{
 "cells": [
  {
   "cell_type": "code",
   "execution_count": 1,
   "metadata": {},
   "outputs": [],
   "source": [
    "import tpx\n",
    "import numpy\n",
    "\n",
    "from tools.visualization import slice_and_pack_data\n",
    "import line_profiler\n",
    "%load_ext line_profiler"
   ]
  },
  {
   "cell_type": "code",
   "execution_count": 2,
   "metadata": {},
   "outputs": [],
   "source": [
    "# Select a file to load:\n",
    "fname = \"/home/cadams/CRAB/UTA-tpx3/120thresh_12biasvolt_IIgain0V000000.tpx3\""
   ]
  },
  {
   "cell_type": "code",
   "execution_count": 3,
   "metadata": {},
   "outputs": [],
   "source": [
    "#Load the file from the binary data:\n",
    "crab0_data = tpx.frame(fname=fname)"
   ]
  },
  {
   "cell_type": "code",
   "execution_count": 4,
   "metadata": {},
   "outputs": [],
   "source": [
    "# # Apply a threshold to remove events with too little charge:\n",
    "# crab0_data = crab0_data.threshold(26)\n",
    "# print(crab0_data.shape)"
   ]
  },
  {
   "cell_type": "code",
   "execution_count": 5,
   "metadata": {},
   "outputs": [
    {
     "name": "stdout",
     "output_type": "stream",
     "text": [
      "1390\n"
     ]
    }
   ],
   "source": [
    "# Next, use the TPX slice tools to chop this frame into unique events: \n",
    "from tpx.slicer import slice\n",
    "\n",
    "# 100 us bins\n",
    "events = slice(crab0_data, bin_size=100e-6, threshold=50, method=\"toa_counts\")\n",
    "print(len(events))"
   ]
  },
  {
   "cell_type": "code",
   "execution_count": 6,
   "metadata": {},
   "outputs": [
    {
     "name": "stdout",
     "output_type": "stream",
     "text": [
      "0 56\n",
      "1 108\n",
      "24 112\n",
      "35 116\n",
      "39 167\n",
      "276 174\n",
      "553 206\n",
      "1002 210\n",
      "1152 222\n"
     ]
    }
   ],
   "source": [
    "i_m = 0\n",
    "m = 0\n",
    "for i, e in enumerate(events): \n",
    "    if len(e) > m:\n",
    "        print(i, len(e))\n",
    "        i_m = i; m = len(e)"
   ]
  },
  {
   "cell_type": "code",
   "execution_count": 7,
   "metadata": {},
   "outputs": [],
   "source": [
    "\n",
    "import sys\n",
    "from vispy import scene\n",
    "from vispy import app\n",
    "from vispy.io import load_data_file, read_png\n",
    "\n",
    "\n",
    "\n",
    "%gui qt\n"
   ]
  },
  {
   "cell_type": "code",
   "execution_count": 8,
   "metadata": {},
   "outputs": [],
   "source": [
    "# Pull an image off of the events:\n",
    "max_time = 0.5\n",
    "xyz, z = slice_and_pack_data(events[1153], drift_scale=1.0, normalize_xy=False)\n",
    "\n",
    "img_data = numpy.zeros([256,256])\n",
    "for pixel, val in zip(xyz, z):\n",
    "    img_data[int(pixel[0]), int(pixel[1])] += val"
   ]
  },
  {
   "cell_type": "code",
   "execution_count": 9,
   "metadata": {},
   "outputs": [
    {
     "name": "stderr",
     "output_type": "stream",
     "text": [
      "/home/cadams/pythonbase/lib/python3.10/site-packages/vispy/gloo/texture.py:363: UserWarning: GPUs can't support dtypes bigger than 32-bit, but got 'float64'. Precision will be lost due to downcasting to 32-bit.\n",
      "  data = downcast_to_32bit_if_needed(data, copy=copy)\n"
     ]
    }
   ],
   "source": [
    "canvas = scene.SceneCanvas(keys='interactive')\n",
    "canvas.size = 800, 800\n",
    "canvas.show()\n",
    "view = canvas.central_widget.add_view()\n",
    "\n",
    "image = scene.visuals.Image(img_data, interpolation=\"nearest\",\n",
    "                            parent=view.scene, method='subdivide')\n",
    "\n",
    "# Set 2D camera (the camera will scale to the contents in the scene)\n",
    "view.camera = scene.PanZoomCamera(aspect=1)\n",
    "# flip y-axis to have correct aligment\n",
    "view.camera.flip = (0, 1, 0)\n",
    "view.camera.set_range()"
   ]
  },
  {
   "cell_type": "code",
   "execution_count": null,
   "metadata": {},
   "outputs": [],
   "source": []
  }
 ],
 "metadata": {
  "kernelspec": {
   "display_name": "Python 3",
   "language": "python",
   "name": "python3"
  },
  "language_info": {
   "codemirror_mode": {
    "name": "ipython",
    "version": 3
   },
   "file_extension": ".py",
   "mimetype": "text/x-python",
   "name": "python",
   "nbconvert_exporter": "python",
   "pygments_lexer": "ipython3",
   "version": "3.10.12"
  }
 },
 "nbformat": 4,
 "nbformat_minor": 2
}
